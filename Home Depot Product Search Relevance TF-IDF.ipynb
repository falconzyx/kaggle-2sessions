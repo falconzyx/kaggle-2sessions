{
 "cells": [
  {
   "cell_type": "markdown",
   "metadata": {},
   "source": [
    "# Home Depot Product Search Relevance\n",
    "The challenge is to predict a relevance score for the provided combinations of search terms and products. To create the ground truth labels, Home Depot has crowdsourced the search/product pairs to multiple human raters."
   ]
  },
  {
   "cell_type": "markdown",
   "metadata": {},
   "source": [
    "## LabGraph Create\n",
    "This notebook uses the LabGraph create machine learning iPython module. You need a personal licence to run this code."
   ]
  },
  {
   "cell_type": "code",
   "execution_count": 1,
   "metadata": {
    "collapsed": false
   },
   "outputs": [],
   "source": [
    "import graphlab as gl"
   ]
  },
  {
   "cell_type": "markdown",
   "metadata": {},
   "source": [
    "### Load data from CSV files"
   ]
  },
  {
   "cell_type": "code",
   "execution_count": 2,
   "metadata": {
    "collapsed": false
   },
   "outputs": [
    {
     "name": "stderr",
     "output_type": "stream",
     "text": [
      "[INFO] This non-commercial license of GraphLab Create is assigned to thomasv1000@hotmail.fr and will expire on October 12, 2016. For commercial licensing options, visit https://dato.com/buy/.\n",
      "\n",
      "[INFO] Start server at: ipc:///tmp/graphlab_server-32514 - Server binary: /Users/tjaskula/.graphlab/anaconda/lib/python2.7/site-packages/graphlab/unity_server - Server log: /tmp/graphlab_server_1454970983.log\n",
      "[INFO] GraphLab Server Version: 1.8.1\n"
     ]
    },
    {
     "name": "stdout",
     "output_type": "stream",
     "text": [
      "PROGRESS: Finished parsing file /Users/tjaskula/Documents/GitHub/Kaggle.HomeDepot/data/train.csv\n",
      "PROGRESS: Parsing completed. Parsed 100 lines in 0.117518 secs.\n",
      "------------------------------------------------------\n",
      "Inferred types from first line of file as \n",
      "column_type_hints=[int,int,str,str,float]\n",
      "If parsing fails due to incorrect types, you can correct\n",
      "the inferred type list above and pass it to read_csv in\n",
      "the column_type_hints argument\n",
      "------------------------------------------------------\n",
      "PROGRESS: Finished parsing file /Users/tjaskula/Documents/GitHub/Kaggle.HomeDepot/data/train.csv\n",
      "PROGRESS: Parsing completed. Parsed 74067 lines in 0.174436 secs.\n"
     ]
    }
   ],
   "source": [
    "train = gl.SFrame.read_csv(\"../data/train.csv\")"
   ]
  },
  {
   "cell_type": "code",
   "execution_count": 3,
   "metadata": {
    "collapsed": false
   },
   "outputs": [
    {
     "name": "stdout",
     "output_type": "stream",
     "text": [
      "PROGRESS: Finished parsing file /Users/tjaskula/Documents/GitHub/Kaggle.HomeDepot/data/test.csv\n",
      "PROGRESS: Parsing completed. Parsed 100 lines in 0.194729 secs.\n",
      "------------------------------------------------------\n",
      "Inferred types from first line of file as \n",
      "column_type_hints=[int,int,str,str]\n",
      "If parsing fails due to incorrect types, you can correct\n",
      "the inferred type list above and pass it to read_csv in\n",
      "the column_type_hints argument\n",
      "------------------------------------------------------\n",
      "PROGRESS: Finished parsing file /Users/tjaskula/Documents/GitHub/Kaggle.HomeDepot/data/test.csv\n",
      "PROGRESS: Parsing completed. Parsed 166693 lines in 0.33546 secs.\n"
     ]
    }
   ],
   "source": [
    "test = gl.SFrame.read_csv(\"../data/test.csv\")"
   ]
  },
  {
   "cell_type": "code",
   "execution_count": 4,
   "metadata": {
    "collapsed": false
   },
   "outputs": [
    {
     "name": "stdout",
     "output_type": "stream",
     "text": [
      "PROGRESS: Finished parsing file /Users/tjaskula/Documents/GitHub/Kaggle.HomeDepot/data/product_descriptions.csv\n",
      "PROGRESS: Parsing completed. Parsed 100 lines in 0.484572 secs.\n",
      "------------------------------------------------------\n",
      "Inferred types from first line of file as \n",
      "column_type_hints=[int,str]\n",
      "If parsing fails due to incorrect types, you can correct\n",
      "the inferred type list above and pass it to read_csv in\n",
      "the column_type_hints argument\n",
      "------------------------------------------------------\n",
      "PROGRESS: Read 61134 lines. Lines per second: 61700.6\n",
      "PROGRESS: Finished parsing file /Users/tjaskula/Documents/GitHub/Kaggle.HomeDepot/data/product_descriptions.csv\n",
      "PROGRESS: Parsing completed. Parsed 124428 lines in 1.56952 secs.\n"
     ]
    }
   ],
   "source": [
    "desc = gl.SFrame.read_csv(\"../data/product_descriptions.csv\")"
   ]
  },
  {
   "cell_type": "markdown",
   "metadata": {},
   "source": [
    "### Data merging"
   ]
  },
  {
   "cell_type": "code",
   "execution_count": 5,
   "metadata": {
    "collapsed": true
   },
   "outputs": [],
   "source": [
    "# merge train with description\n",
    "train = train.join(desc, on = 'product_uid', how = 'left')"
   ]
  },
  {
   "cell_type": "code",
   "execution_count": 6,
   "metadata": {
    "collapsed": false
   },
   "outputs": [],
   "source": [
    "# merge test with description\n",
    "test = test.join(desc, on = 'product_uid', how = 'left')"
   ]
  },
  {
   "cell_type": "markdown",
   "metadata": {
    "collapsed": true
   },
   "source": [
    "### Let's explore some data"
   ]
  },
  {
   "cell_type": "markdown",
   "metadata": {
    "collapsed": false
   },
   "source": [
    "Let's examine 3 different queries and products:\n",
    "* first from the training set\n",
    "* somewhere in the moddle in the training set\n",
    "* the last one from the training set"
   ]
  },
  {
   "cell_type": "code",
   "execution_count": 7,
   "metadata": {
    "collapsed": false
   },
   "outputs": [
    {
     "data": {
      "text/plain": [
       "{'id': 2,\n",
       " 'product_description': 'Not only do angles make joints stronger, they also provide more consistent, straight corners. Simpson Strong-Tie offers a wide variety of angles in various sizes and thicknesses to handle light-duty jobs or projects where a structural connection is needed. Some can be bent (skewed) to match the project. For outdoor projects or those where moisture is present, use our ZMAX zinc-coated connectors, which provide extra resistance against corrosion (look for a \"Z\" at the end of the model number).Versatile connector for various 90 connections and home repair projectsStronger than angled nailing or screw fastening aloneHelp ensure joints are consistently straight and strongDimensions: 3 in. x 3 in. x 1-1/2 in.Made from 12-Gauge steelGalvanized for extra corrosion resistanceInstall with 10d common nails or #9 x 1-1/2 in. Strong-Drive SD screws',\n",
       " 'product_title': 'Simpson Strong-Tie 12-Gauge Angle',\n",
       " 'product_uid': 100001,\n",
       " 'relevance': 3.0,\n",
       " 'search_term': 'angle bracket'}"
      ]
     },
     "execution_count": 7,
     "metadata": {},
     "output_type": "execute_result"
    }
   ],
   "source": [
    "first_doc = train[0]\n",
    "first_doc"
   ]
  },
  {
   "cell_type": "markdown",
   "metadata": {},
   "source": [
    "**'angle bracket'** search term is not contained in the body. **'angle'** would be after stemming however **'bracket'** is not."
   ]
  },
  {
   "cell_type": "code",
   "execution_count": 8,
   "metadata": {
    "collapsed": false
   },
   "outputs": [
    {
     "data": {
      "text/plain": [
       "{'id': 113228,\n",
       " 'product_description': 'PureBond Plywood Project Panels are a convenient and cost-effective way to build cabinets, furniture and other woodworking projects. It provides a beautiful wood veneer face bonded to a strong and flat wood core. These PureBond Project Panels are made with no added formaldehyde, eliminating the concern about off-gassing dangerous fumes during fabrication or when installed in your home. Their smaller size makes them easy to handle and allows you to order just the amount of wood you need. PureBond plywood, in Project Panels sizes or in full sheet sizes, are a Home Depot exclusive.California residents: see&nbsp;Proposition 65 informationDecorative mahogany veneer applied to both sides of this panelB-2 plain sliced mahogany - 7-ply constructionLight weight, all-wood veneer constructionPrecision-cut hardwood plywood panels in convenient small sizesCommon: 3/4 in. x 2 ft. x 4 ft.; Actual: 0.703 in. x 24 in. x 48 in.Grade: B-2',\n",
       " 'product_title': '3/4 in. x 2 ft. x 4 ft. PureBond Mahogany Plywood Project Panel',\n",
       " 'product_uid': 137334,\n",
       " 'relevance': 3.0,\n",
       " 'search_term': 'table top wood'}"
      ]
     },
     "execution_count": 8,
     "metadata": {},
     "output_type": "execute_result"
    }
   ],
   "source": [
    "middle_doc = train[37033]\n",
    "middle_doc"
   ]
  },
  {
   "cell_type": "markdown",
   "metadata": {},
   "source": [
    "only **'wood'** is present from search term"
   ]
  },
  {
   "cell_type": "code",
   "execution_count": 9,
   "metadata": {
    "collapsed": false
   },
   "outputs": [
    {
     "data": {
      "text/plain": [
       "{'id': 221473,\n",
       " 'product_description': 'No. 918 Millennial Ryan heathered texture semi-sheer curtain is a casual solid that adds freshness and a finishing touch to any decor setting. Enhances privacy while allowing light to gently filter through. Clean, simple one-pocket pole top design can be used with a standard or decorative curtain rod. Mix and match with other solids and prints for a look that is all your own.Sheer panel, gently filters lightNo header pole top panelMachine washableWide array of colors to choose from100% polyesterContains 1-curtain panel',\n",
       " 'product_title': 'LICHTENBERG Pool Blue No. 918 Millennial Ryan Heathered Texture Sheer Curtain Panel, 40 in. W x 63 in. L',\n",
       " 'product_uid': 206650,\n",
       " 'relevance': 2.33,\n",
       " 'search_term': 'fine sheer curtain 63 inches'}"
      ]
     },
     "execution_count": 9,
     "metadata": {},
     "output_type": "execute_result"
    }
   ],
   "source": [
    "last_doc = train[-1]\n",
    "last_doc"
   ]
  },
  {
   "cell_type": "markdown",
   "metadata": {},
   "source": [
    "**'sheer'** and **'courtain'** are present and that's all"
   ]
  },
  {
   "cell_type": "markdown",
   "metadata": {},
   "source": [
    "### How many search terms are not present in description and title for ranked 3 documents\n",
    "Ranked 3 documents are the most relevents searches, but how many search queries doesn't include the searched term in the description and the title"
   ]
  },
  {
   "cell_type": "code",
   "execution_count": 10,
   "metadata": {
    "collapsed": false
   },
   "outputs": [
    {
     "name": "stdout",
     "output_type": "stream",
     "text": [
      "+-----+-------------+-------------------------------+\n",
      "|  id | product_uid |         product_title         |\n",
      "+-----+-------------+-------------------------------+\n",
      "|  2  |    100001   | Simpson Strong-Tie 12-Gaug... |\n",
      "|  9  |    100002   | BEHR Premium Textured Deck... |\n",
      "|  18 |    100006   | Whirlpool 1.9 cu. ft. Over... |\n",
      "|  21 |    100006   | Whirlpool 1.9 cu. ft. Over... |\n",
      "|  27 |    100009   | House of Fara 3/4 in. x 3 ... |\n",
      "|  35 |    100011   | Toro Personal Pace Recycle... |\n",
      "|  37 |    100011   | Toro Personal Pace Recycle... |\n",
      "|  65 |    100016   | Sunjoy Calais 8 ft. x 5 ft... |\n",
      "| 123 |    100023   | Quikrete 80 lb. Crack-Resi... |\n",
      "| 162 |    100029   | DecoArt Americana Decor 16... |\n",
      "+-----+-------------+-------------------------------+\n",
      "+--------------------------------+-----------+-------------------------------+\n",
      "|          search_term           | relevance |      product_description      |\n",
      "+--------------------------------+-----------+-------------------------------+\n",
      "|         angle bracket          |    3.0    | Not only do angles make jo... |\n",
      "|           deck over            |    3.0    | BEHR Premium Textured DECK... |\n",
      "|         convection otr         |    3.0    | Achieving delicious result... |\n",
      "|           microwaves           |    3.0    | Achieving delicious result... |\n",
      "|            mdf 3/4             |    3.0    | Get the House of Fara 3/4 ... |\n",
      "| briggs and stratton lawn mower |    3.0    | Recycler 22 in. Personal P... |\n",
      "|            gas mowe            |    3.0    | Recycler 22 in. Personal P... |\n",
      "|          grill gazebo          |    3.0    | Make grilling great with t... |\n",
      "| CONCRETE & MASONRY CLEANER...  |    3.0    | Quikrete 80 lb. Crack-Resi... |\n",
      "|          chalk paint           |    3.0    | Achieving a vintage, time-... |\n",
      "+--------------------------------+-----------+-------------------------------+\n",
      "+-------------------------------+\n",
      "|     search_term_word_count    |\n",
      "+-------------------------------+\n",
      "|   {'bracket': 1, 'angle': 1}  |\n",
      "|     {'over': 1, 'deck': 1}    |\n",
      "|  {'otr': 1, 'convection': 1}  |\n",
      "|       {'microwaves': 1}       |\n",
      "|      {'mdf': 1, '3/4': 1}     |\n",
      "| {'and': 1, 'stratton': 1, ... |\n",
      "|     {'gas': 1, 'mowe': 1}     |\n",
      "|   {'grill': 1, 'gazebo': 1}   |\n",
      "| {'etcher': 1, 'cleaner': 1... |\n",
      "|    {'chalk': 1, 'paint': 1}   |\n",
      "+-------------------------------+\n",
      "[10 rows x 7 columns]\n",
      "\n"
     ]
    },
    {
     "data": {
      "text/plain": [
       "19125"
      ]
     },
     "execution_count": 10,
     "metadata": {},
     "output_type": "execute_result"
    }
   ],
   "source": [
    "train['search_term_word_count'] = gl.text_analytics.count_words(train['search_term'])\n",
    "ranked3doc = train[train['relevance'] == 3]\n",
    "print ranked3doc.head()\n",
    "len(ranked3doc)"
   ]
  },
  {
   "cell_type": "code",
   "execution_count": 11,
   "metadata": {
    "collapsed": false
   },
   "outputs": [],
   "source": [
    "words_search = gl.text_analytics.tokenize(ranked3doc['search_term'], to_lower = True)\n",
    "words_description = gl.text_analytics.tokenize(ranked3doc['product_description'], to_lower = True)\n",
    "words_title = gl.text_analytics.tokenize(ranked3doc['product_title'], to_lower = True)\n",
    "wordsdiff_desc = []\n",
    "wordsdiff_title = []\n",
    "puid = []\n",
    "search_term = []\n",
    "ws_count = []\n",
    "ws_count_used_desc = []\n",
    "ws_count_used_title = []\n",
    "for item in xrange(len(ranked3doc)):\n",
    "    ws = words_search[item]\n",
    "    pd = words_description[item]\n",
    "    pt = words_title[item]\n",
    "    diff = set(ws) - set(pd)\n",
    "    if diff is None:\n",
    "        diff = 0\n",
    "    wordsdiff_desc.append(diff)\n",
    "    \n",
    "    diff2 = set(ws) - set(pt)\n",
    "    if diff2 is None:\n",
    "        diff2 = 0\n",
    "    wordsdiff_title.append(diff2)\n",
    "    \n",
    "    puid.append(ranked3doc[item]['product_uid'])\n",
    "    search_term.append(ranked3doc[item]['search_term'])\n",
    "    ws_count.append(len(ws))\n",
    "    ws_count_used_desc.append(len(ws) - len(diff))\n",
    "    ws_count_used_title.append(len(ws) - len(diff2))\n",
    "    \n",
    "differences = gl.SFrame({\"puid\" : puid,\n",
    "                         \"search term\": search_term,\n",
    "                         \"diff desc\" : wordsdiff_desc,\n",
    "                         \"diff title\" : wordsdiff_title,\n",
    "                         \"ws count\" : ws_count, \n",
    "                         \"ws count used desc\" : ws_count_used_desc,\n",
    "                         \"ws count used title\" : ws_count_used_title})"
   ]
  },
  {
   "cell_type": "code",
   "execution_count": 12,
   "metadata": {
    "collapsed": false
   },
   "outputs": [
    {
     "data": {
      "text/html": [
       "<div style=\"max-height:1000px;max-width:1500px;overflow:auto;\"><table frame=\"box\" rules=\"cols\">\n",
       "    <tr>\n",
       "        <th style=\"padding-left: 1em; padding-right: 1em; text-align: center\">diff desc</th>\n",
       "        <th style=\"padding-left: 1em; padding-right: 1em; text-align: center\">diff title</th>\n",
       "        <th style=\"padding-left: 1em; padding-right: 1em; text-align: center\">puid</th>\n",
       "        <th style=\"padding-left: 1em; padding-right: 1em; text-align: center\">search term</th>\n",
       "        <th style=\"padding-left: 1em; padding-right: 1em; text-align: center\">ws count</th>\n",
       "        <th style=\"padding-left: 1em; padding-right: 1em; text-align: center\">ws count used desc</th>\n",
       "    </tr>\n",
       "    <tr>\n",
       "        <td style=\"padding-left: 1em; padding-right: 1em; text-align: center; vertical-align: top\">[recycling, bins]</td>\n",
       "        <td style=\"padding-left: 1em; padding-right: 1em; text-align: center; vertical-align: top\">[recycling, bins]</td>\n",
       "        <td style=\"padding-left: 1em; padding-right: 1em; text-align: center; vertical-align: top\">145727</td>\n",
       "        <td style=\"padding-left: 1em; padding-right: 1em; text-align: center; vertical-align: top\">recycling bins</td>\n",
       "        <td style=\"padding-left: 1em; padding-right: 1em; text-align: center; vertical-align: top\">2</td>\n",
       "        <td style=\"padding-left: 1em; padding-right: 1em; text-align: center; vertical-align: top\">0</td>\n",
       "    </tr>\n",
       "    <tr>\n",
       "        <td style=\"padding-left: 1em; padding-right: 1em; text-align: center; vertical-align: top\">[over, deck]</td>\n",
       "        <td style=\"padding-left: 1em; padding-right: 1em; text-align: center; vertical-align: top\">[over, deck]</td>\n",
       "        <td style=\"padding-left: 1em; padding-right: 1em; text-align: center; vertical-align: top\">100002</td>\n",
       "        <td style=\"padding-left: 1em; padding-right: 1em; text-align: center; vertical-align: top\">deck over</td>\n",
       "        <td style=\"padding-left: 1em; padding-right: 1em; text-align: center; vertical-align: top\">2</td>\n",
       "        <td style=\"padding-left: 1em; padding-right: 1em; text-align: center; vertical-align: top\">0</td>\n",
       "    </tr>\n",
       "    <tr>\n",
       "        <td style=\"padding-left: 1em; padding-right: 1em; text-align: center; vertical-align: top\">[hammer, electric, drill]</td>\n",
       "        <td style=\"padding-left: 1em; padding-right: 1em; text-align: center; vertical-align: top\">[hammer, electric, drill]</td>\n",
       "        <td style=\"padding-left: 1em; padding-right: 1em; text-align: center; vertical-align: top\">120061</td>\n",
       "        <td style=\"padding-left: 1em; padding-right: 1em; text-align: center; vertical-align: top\">electric hammer drill</td>\n",
       "        <td style=\"padding-left: 1em; padding-right: 1em; text-align: center; vertical-align: top\">3</td>\n",
       "        <td style=\"padding-left: 1em; padding-right: 1em; text-align: center; vertical-align: top\">0</td>\n",
       "    </tr>\n",
       "    <tr>\n",
       "        <td style=\"padding-left: 1em; padding-right: 1em; text-align: center; vertical-align: top\">[microwaves]</td>\n",
       "        <td style=\"padding-left: 1em; padding-right: 1em; text-align: center; vertical-align: top\">[microwaves]</td>\n",
       "        <td style=\"padding-left: 1em; padding-right: 1em; text-align: center; vertical-align: top\">100006</td>\n",
       "        <td style=\"padding-left: 1em; padding-right: 1em; text-align: center; vertical-align: top\">microwaves</td>\n",
       "        <td style=\"padding-left: 1em; padding-right: 1em; text-align: center; vertical-align: top\">1</td>\n",
       "        <td style=\"padding-left: 1em; padding-right: 1em; text-align: center; vertical-align: top\">0</td>\n",
       "    </tr>\n",
       "    <tr>\n",
       "        <td style=\"padding-left: 1em; padding-right: 1em; text-align: center; vertical-align: top\">[plywoods]</td>\n",
       "        <td style=\"padding-left: 1em; padding-right: 1em; text-align: center; vertical-align: top\">[plywoods]</td>\n",
       "        <td style=\"padding-left: 1em; padding-right: 1em; text-align: center; vertical-align: top\">119996</td>\n",
       "        <td style=\"padding-left: 1em; padding-right: 1em; text-align: center; vertical-align: top\">plywoods</td>\n",
       "        <td style=\"padding-left: 1em; padding-right: 1em; text-align: center; vertical-align: top\">1</td>\n",
       "        <td style=\"padding-left: 1em; padding-right: 1em; text-align: center; vertical-align: top\">0</td>\n",
       "    </tr>\n",
       "    <tr>\n",
       "        <td style=\"padding-left: 1em; padding-right: 1em; text-align: center; vertical-align: top\">[coca, cola]</td>\n",
       "        <td style=\"padding-left: 1em; padding-right: 1em; text-align: center; vertical-align: top\">[coca, cola]</td>\n",
       "        <td style=\"padding-left: 1em; padding-right: 1em; text-align: center; vertical-align: top\">120276</td>\n",
       "        <td style=\"padding-left: 1em; padding-right: 1em; text-align: center; vertical-align: top\">coca cola</td>\n",
       "        <td style=\"padding-left: 1em; padding-right: 1em; text-align: center; vertical-align: top\">2</td>\n",
       "        <td style=\"padding-left: 1em; padding-right: 1em; text-align: center; vertical-align: top\">0</td>\n",
       "    </tr>\n",
       "    <tr>\n",
       "        <td style=\"padding-left: 1em; padding-right: 1em; text-align: center; vertical-align: top\">[greenhouses]</td>\n",
       "        <td style=\"padding-left: 1em; padding-right: 1em; text-align: center; vertical-align: top\">[greenhouses]</td>\n",
       "        <td style=\"padding-left: 1em; padding-right: 1em; text-align: center; vertical-align: top\">120318</td>\n",
       "        <td style=\"padding-left: 1em; padding-right: 1em; text-align: center; vertical-align: top\">greenhouses</td>\n",
       "        <td style=\"padding-left: 1em; padding-right: 1em; text-align: center; vertical-align: top\">1</td>\n",
       "        <td style=\"padding-left: 1em; padding-right: 1em; text-align: center; vertical-align: top\">0</td>\n",
       "    </tr>\n",
       "    <tr>\n",
       "        <td style=\"padding-left: 1em; padding-right: 1em; text-align: center; vertical-align: top\">[pipe, cutters]</td>\n",
       "        <td style=\"padding-left: 1em; padding-right: 1em; text-align: center; vertical-align: top\">[pipe, cutters]</td>\n",
       "        <td style=\"padding-left: 1em; padding-right: 1em; text-align: center; vertical-align: top\">119840</td>\n",
       "        <td style=\"padding-left: 1em; padding-right: 1em; text-align: center; vertical-align: top\">pipe cutters</td>\n",
       "        <td style=\"padding-left: 1em; padding-right: 1em; text-align: center; vertical-align: top\">2</td>\n",
       "        <td style=\"padding-left: 1em; padding-right: 1em; text-align: center; vertical-align: top\">0</td>\n",
       "    </tr>\n",
       "    <tr>\n",
       "        <td style=\"padding-left: 1em; padding-right: 1em; text-align: center; vertical-align: top\">[buit, themostat, in]</td>\n",
       "        <td style=\"padding-left: 1em; padding-right: 1em; text-align: center; vertical-align: top\">[buit, themostat, in]</td>\n",
       "        <td style=\"padding-left: 1em; padding-right: 1em; text-align: center; vertical-align: top\">206359</td>\n",
       "        <td style=\"padding-left: 1em; padding-right: 1em; text-align: center; vertical-align: top\">buit in themostat</td>\n",
       "        <td style=\"padding-left: 1em; padding-right: 1em; text-align: center; vertical-align: top\">3</td>\n",
       "        <td style=\"padding-left: 1em; padding-right: 1em; text-align: center; vertical-align: top\">0</td>\n",
       "    </tr>\n",
       "    <tr>\n",
       "        <td style=\"padding-left: 1em; padding-right: 1em; text-align: center; vertical-align: top\">[mowers, ridding]</td>\n",
       "        <td style=\"padding-left: 1em; padding-right: 1em; text-align: center; vertical-align: top\">[mowers, ridding]</td>\n",
       "        <td style=\"padding-left: 1em; padding-right: 1em; text-align: center; vertical-align: top\">120366</td>\n",
       "        <td style=\"padding-left: 1em; padding-right: 1em; text-align: center; vertical-align: top\">ridding mowers</td>\n",
       "        <td style=\"padding-left: 1em; padding-right: 1em; text-align: center; vertical-align: top\">2</td>\n",
       "        <td style=\"padding-left: 1em; padding-right: 1em; text-align: center; vertical-align: top\">0</td>\n",
       "    </tr>\n",
       "</table>\n",
       "<table frame=\"box\" rules=\"cols\">\n",
       "    <tr>\n",
       "        <th style=\"padding-left: 1em; padding-right: 1em; text-align: center\">ws count used title</th>\n",
       "    </tr>\n",
       "    <tr>\n",
       "        <td style=\"padding-left: 1em; padding-right: 1em; text-align: center; vertical-align: top\">0</td>\n",
       "    </tr>\n",
       "    <tr>\n",
       "        <td style=\"padding-left: 1em; padding-right: 1em; text-align: center; vertical-align: top\">0</td>\n",
       "    </tr>\n",
       "    <tr>\n",
       "        <td style=\"padding-left: 1em; padding-right: 1em; text-align: center; vertical-align: top\">0</td>\n",
       "    </tr>\n",
       "    <tr>\n",
       "        <td style=\"padding-left: 1em; padding-right: 1em; text-align: center; vertical-align: top\">0</td>\n",
       "    </tr>\n",
       "    <tr>\n",
       "        <td style=\"padding-left: 1em; padding-right: 1em; text-align: center; vertical-align: top\">0</td>\n",
       "    </tr>\n",
       "    <tr>\n",
       "        <td style=\"padding-left: 1em; padding-right: 1em; text-align: center; vertical-align: top\">0</td>\n",
       "    </tr>\n",
       "    <tr>\n",
       "        <td style=\"padding-left: 1em; padding-right: 1em; text-align: center; vertical-align: top\">0</td>\n",
       "    </tr>\n",
       "    <tr>\n",
       "        <td style=\"padding-left: 1em; padding-right: 1em; text-align: center; vertical-align: top\">0</td>\n",
       "    </tr>\n",
       "    <tr>\n",
       "        <td style=\"padding-left: 1em; padding-right: 1em; text-align: center; vertical-align: top\">0</td>\n",
       "    </tr>\n",
       "    <tr>\n",
       "        <td style=\"padding-left: 1em; padding-right: 1em; text-align: center; vertical-align: top\">0</td>\n",
       "    </tr>\n",
       "</table>\n",
       "[19125 rows x 7 columns]<br/>Note: Only the head of the SFrame is printed.<br/>You can use print_rows(num_rows=m, num_columns=n) to print more rows and columns.\n",
       "</div>"
      ],
      "text/plain": [
       "Columns:\n",
       "\tdiff desc\tlist\n",
       "\tdiff title\tlist\n",
       "\tpuid\tint\n",
       "\tsearch term\tstr\n",
       "\tws count\tint\n",
       "\tws count used desc\tint\n",
       "\tws count used title\tint\n",
       "\n",
       "Rows: 19125\n",
       "\n",
       "Data:\n",
       "+---------------------------+---------------------------+--------+\n",
       "|         diff desc         |         diff title        |  puid  |\n",
       "+---------------------------+---------------------------+--------+\n",
       "|     [recycling, bins]     |     [recycling, bins]     | 145727 |\n",
       "|        [over, deck]       |        [over, deck]       | 100002 |\n",
       "| [hammer, electric, drill] | [hammer, electric, drill] | 120061 |\n",
       "|        [microwaves]       |        [microwaves]       | 100006 |\n",
       "|         [plywoods]        |         [plywoods]        | 119996 |\n",
       "|        [coca, cola]       |        [coca, cola]       | 120276 |\n",
       "|       [greenhouses]       |       [greenhouses]       | 120318 |\n",
       "|      [pipe, cutters]      |      [pipe, cutters]      | 119840 |\n",
       "|   [buit, themostat, in]   |   [buit, themostat, in]   | 206359 |\n",
       "|     [mowers, ridding]     |     [mowers, ridding]     | 120366 |\n",
       "+---------------------------+---------------------------+--------+\n",
       "+-----------------------+----------+--------------------+---------------------+\n",
       "|      search term      | ws count | ws count used desc | ws count used title |\n",
       "+-----------------------+----------+--------------------+---------------------+\n",
       "|     recycling bins    |    2     |         0          |          0          |\n",
       "|       deck over       |    2     |         0          |          0          |\n",
       "| electric hammer drill |    3     |         0          |          0          |\n",
       "|       microwaves      |    1     |         0          |          0          |\n",
       "|        plywoods       |    1     |         0          |          0          |\n",
       "|       coca cola       |    2     |         0          |          0          |\n",
       "|      greenhouses      |    1     |         0          |          0          |\n",
       "|      pipe cutters     |    2     |         0          |          0          |\n",
       "|   buit in themostat   |    3     |         0          |          0          |\n",
       "|     ridding mowers    |    2     |         0          |          0          |\n",
       "+-----------------------+----------+--------------------+---------------------+\n",
       "[19125 rows x 7 columns]\n",
       "Note: Only the head of the SFrame is printed.\n",
       "You can use print_rows(num_rows=m, num_columns=n) to print more rows and columns."
      ]
     },
     "execution_count": 12,
     "metadata": {},
     "output_type": "execute_result"
    }
   ],
   "source": [
    "differences.sort(['ws count used desc', 'ws count used title'])"
   ]
  },
  {
   "cell_type": "code",
   "execution_count": 13,
   "metadata": {
    "collapsed": false
   },
   "outputs": [
    {
     "name": "stdout",
     "output_type": "stream",
     "text": [
      "No terms used in description : 2666\n",
      "No terms used in title : 2152\n",
      "No terms used in description and title : 1206\n"
     ]
    }
   ],
   "source": [
    "print \"No terms used in description : \" + str(len(differences[differences['ws count used desc'] == 0]))\n",
    "print \"No terms used in title : \" + str(len(differences[differences['ws count used title'] == 0]))\n",
    "print \"No terms used in description and title : \" + str(len(differences[(differences['ws count used desc'] == 0) & \n",
    "                                                                        (differences['ws count used title'] == 0)]))"
   ]
  },
  {
   "cell_type": "code",
   "execution_count": 14,
   "metadata": {
    "collapsed": true
   },
   "outputs": [],
   "source": [
    "import matplotlib.pyplot as plt\n",
    "%matplotlib inline"
   ]
  },
  {
   "cell_type": "markdown",
   "metadata": {},
   "source": [
    "### TF-IDF with linear regression"
   ]
  },
  {
   "cell_type": "code",
   "execution_count": 15,
   "metadata": {
    "collapsed": false
   },
   "outputs": [],
   "source": [
    "train_search_tfidf = gl.text_analytics.tf_idf(train['search_term_word_count'])"
   ]
  },
  {
   "cell_type": "code",
   "execution_count": 16,
   "metadata": {
    "collapsed": false
   },
   "outputs": [],
   "source": [
    "train['search_tfidf'] = train_search_tfidf"
   ]
  },
  {
   "cell_type": "code",
   "execution_count": 17,
   "metadata": {
    "collapsed": false
   },
   "outputs": [],
   "source": [
    "train['product_desc_word_count'] = gl.text_analytics.count_words(train['product_description'])\n",
    "train_desc_tfidf = gl.text_analytics.tf_idf(train['product_desc_word_count'])"
   ]
  },
  {
   "cell_type": "code",
   "execution_count": 18,
   "metadata": {
    "collapsed": true
   },
   "outputs": [],
   "source": [
    "train['desc_tfidf'] = train_desc_tfidf"
   ]
  },
  {
   "cell_type": "code",
   "execution_count": 19,
   "metadata": {
    "collapsed": false
   },
   "outputs": [],
   "source": [
    "train['product_title_word_count'] = gl.text_analytics.count_words(train['product_title'])\n",
    "train_title_tfidf = gl.text_analytics.tf_idf(train['product_title_word_count'])\n",
    "train['title_tfidf'] = train_title_tfidf"
   ]
  },
  {
   "cell_type": "code",
   "execution_count": 20,
   "metadata": {
    "collapsed": false
   },
   "outputs": [],
   "source": [
    "train['distance'] = train.apply(lambda x: gl.distances.cosine(x['search_tfidf'],x['desc_tfidf']))\n",
    "train['distance2'] = train.apply(lambda x: gl.distances.cosine(x['search_tfidf'],x['title_tfidf']))"
   ]
  },
  {
   "cell_type": "code",
   "execution_count": 21,
   "metadata": {
    "collapsed": false
   },
   "outputs": [
    {
     "name": "stdout",
     "output_type": "stream",
     "text": [
      "PROGRESS: Linear regression:\n",
      "PROGRESS: --------------------------------------------------------\n",
      "PROGRESS: Number of examples          : 74067\n",
      "PROGRESS: Number of features          : 2\n",
      "PROGRESS: Number of unpacked features : 2\n",
      "PROGRESS: Number of coefficients    : 3\n",
      "PROGRESS: Starting Newton Method\n",
      "PROGRESS: --------------------------------------------------------\n",
      "PROGRESS: +-----------+----------+--------------+--------------------+---------------+\n",
      "PROGRESS: | Iteration | Passes   | Elapsed Time | Training-max_error | Training-rmse |\n",
      "PROGRESS: +-----------+----------+--------------+--------------------+---------------+\n",
      "PROGRESS: | 1         | 2        | 1.054999     | 1.917518           | 0.510175      |\n",
      "PROGRESS: +-----------+----------+--------------+--------------------+---------------+\n",
      "PROGRESS: SUCCESS: Optimal solution found.\n",
      "PROGRESS:\n"
     ]
    }
   ],
   "source": [
    "model1 = gl.linear_regression.create(train, target = 'relevance', features = ['distance', 'distance2'], validation_set = None)"
   ]
  },
  {
   "cell_type": "code",
   "execution_count": 23,
   "metadata": {
    "collapsed": false
   },
   "outputs": [
    {
     "data": {
      "text/html": [
       "<div style=\"max-height:1000px;max-width:1500px;overflow:auto;\"><table frame=\"box\" rules=\"cols\">\n",
       "    <tr>\n",
       "        <th style=\"padding-left: 1em; padding-right: 1em; text-align: center\">name</th>\n",
       "        <th style=\"padding-left: 1em; padding-right: 1em; text-align: center\">index</th>\n",
       "        <th style=\"padding-left: 1em; padding-right: 1em; text-align: center\">value</th>\n",
       "        <th style=\"padding-left: 1em; padding-right: 1em; text-align: center\">stderr</th>\n",
       "    </tr>\n",
       "    <tr>\n",
       "        <td style=\"padding-left: 1em; padding-right: 1em; text-align: center; vertical-align: top\">(intercept)</td>\n",
       "        <td style=\"padding-left: 1em; padding-right: 1em; text-align: center; vertical-align: top\">None</td>\n",
       "        <td style=\"padding-left: 1em; padding-right: 1em; text-align: center; vertical-align: top\">3.32490615945</td>\n",
       "        <td style=\"padding-left: 1em; padding-right: 1em; text-align: center; vertical-align: top\">0.0148462020716</td>\n",
       "    </tr>\n",
       "    <tr>\n",
       "        <td style=\"padding-left: 1em; padding-right: 1em; text-align: center; vertical-align: top\">distance</td>\n",
       "        <td style=\"padding-left: 1em; padding-right: 1em; text-align: center; vertical-align: top\">None</td>\n",
       "        <td style=\"padding-left: 1em; padding-right: 1em; text-align: center; vertical-align: top\">-0.483754540522</td>\n",
       "        <td style=\"padding-left: 1em; padding-right: 1em; text-align: center; vertical-align: top\">0.019557894819</td>\n",
       "    </tr>\n",
       "    <tr>\n",
       "        <td style=\"padding-left: 1em; padding-right: 1em; text-align: center; vertical-align: top\">distance2</td>\n",
       "        <td style=\"padding-left: 1em; padding-right: 1em; text-align: center; vertical-align: top\">None</td>\n",
       "        <td style=\"padding-left: 1em; padding-right: 1em; text-align: center; vertical-align: top\">-0.680280391407</td>\n",
       "        <td style=\"padding-left: 1em; padding-right: 1em; text-align: center; vertical-align: top\">0.0122246518296</td>\n",
       "    </tr>\n",
       "</table>\n",
       "[3 rows x 4 columns]<br/>\n",
       "</div>"
      ],
      "text/plain": [
       "Columns:\n",
       "\tname\tstr\n",
       "\tindex\tstr\n",
       "\tvalue\tfloat\n",
       "\tstderr\tfloat\n",
       "\n",
       "Rows: 3\n",
       "\n",
       "Data:\n",
       "+-------------+-------+-----------------+-----------------+\n",
       "|     name    | index |      value      |      stderr     |\n",
       "+-------------+-------+-----------------+-----------------+\n",
       "| (intercept) |  None |  3.32490615945  | 0.0148462020716 |\n",
       "|   distance  |  None | -0.483754540522 |  0.019557894819 |\n",
       "|  distance2  |  None | -0.680280391407 | 0.0122246518296 |\n",
       "+-------------+-------+-----------------+-----------------+\n",
       "[3 rows x 4 columns]"
      ]
     },
     "execution_count": 23,
     "metadata": {},
     "output_type": "execute_result"
    }
   ],
   "source": [
    "#let's take a look at the weights before we plot\n",
    "model1.get(\"coefficients\")"
   ]
  },
  {
   "cell_type": "code",
   "execution_count": 25,
   "metadata": {
    "collapsed": true
   },
   "outputs": [],
   "source": [
    "test['search_term_word_count'] = gl.text_analytics.count_words(test['search_term'])\n",
    "test_search_tfidf = gl.text_analytics.tf_idf(test['search_term_word_count'])\n",
    "test['search_tfidf'] = test_search_tfidf\n",
    "test['product_desc_word_count'] = gl.text_analytics.count_words(test['product_description'])\n",
    "test_desc_tfidf = gl.text_analytics.tf_idf(test['product_desc_word_count'])\n",
    "test['desc_tfidf'] = test_desc_tfidf\n",
    "test['product_title_word_count'] = gl.text_analytics.count_words(test['product_title'])\n",
    "test_title_tfidf = gl.text_analytics.tf_idf(test['product_title_word_count'])\n",
    "test['title_tfidf'] = test_title_tfidf\n",
    "test['distance'] = test.apply(lambda x: gl.distances.cosine(x['search_tfidf'],x['desc_tfidf']))\n",
    "test['distance2'] = test.apply(lambda x: gl.distances.cosine(x['search_tfidf'],x['title_tfidf']))"
   ]
  },
  {
   "cell_type": "code",
   "execution_count": 27,
   "metadata": {
    "collapsed": false
   },
   "outputs": [
    {
     "data": {
      "text/html": [
       "<div style=\"max-height:1000px;max-width:1500px;overflow:auto;\"><table frame=\"box\" rules=\"cols\">\n",
       "    <tr>\n",
       "        <th style=\"padding-left: 1em; padding-right: 1em; text-align: center\">id</th>\n",
       "        <th style=\"padding-left: 1em; padding-right: 1em; text-align: center\">product_uid</th>\n",
       "        <th style=\"padding-left: 1em; padding-right: 1em; text-align: center\">product_title</th>\n",
       "        <th style=\"padding-left: 1em; padding-right: 1em; text-align: center\">search_term</th>\n",
       "        <th style=\"padding-left: 1em; padding-right: 1em; text-align: center\">product_description</th>\n",
       "    </tr>\n",
       "    <tr>\n",
       "        <td style=\"padding-left: 1em; padding-right: 1em; text-align: center; vertical-align: top\">1</td>\n",
       "        <td style=\"padding-left: 1em; padding-right: 1em; text-align: center; vertical-align: top\">100001</td>\n",
       "        <td style=\"padding-left: 1em; padding-right: 1em; text-align: center; vertical-align: top\">Simpson Strong-Tie<br>12-Gauge Angle ...</td>\n",
       "        <td style=\"padding-left: 1em; padding-right: 1em; text-align: center; vertical-align: top\">90 degree bracket</td>\n",
       "        <td style=\"padding-left: 1em; padding-right: 1em; text-align: center; vertical-align: top\">Not only do angles make<br>joints stronger, they ...</td>\n",
       "    </tr>\n",
       "    <tr>\n",
       "        <td style=\"padding-left: 1em; padding-right: 1em; text-align: center; vertical-align: top\">4</td>\n",
       "        <td style=\"padding-left: 1em; padding-right: 1em; text-align: center; vertical-align: top\">100001</td>\n",
       "        <td style=\"padding-left: 1em; padding-right: 1em; text-align: center; vertical-align: top\">Simpson Strong-Tie<br>12-Gauge Angle ...</td>\n",
       "        <td style=\"padding-left: 1em; padding-right: 1em; text-align: center; vertical-align: top\">metal l brackets</td>\n",
       "        <td style=\"padding-left: 1em; padding-right: 1em; text-align: center; vertical-align: top\">Not only do angles make<br>joints stronger, they ...</td>\n",
       "    </tr>\n",
       "    <tr>\n",
       "        <td style=\"padding-left: 1em; padding-right: 1em; text-align: center; vertical-align: top\">5</td>\n",
       "        <td style=\"padding-left: 1em; padding-right: 1em; text-align: center; vertical-align: top\">100001</td>\n",
       "        <td style=\"padding-left: 1em; padding-right: 1em; text-align: center; vertical-align: top\">Simpson Strong-Tie<br>12-Gauge Angle ...</td>\n",
       "        <td style=\"padding-left: 1em; padding-right: 1em; text-align: center; vertical-align: top\">simpson sku able</td>\n",
       "        <td style=\"padding-left: 1em; padding-right: 1em; text-align: center; vertical-align: top\">Not only do angles make<br>joints stronger, they ...</td>\n",
       "    </tr>\n",
       "    <tr>\n",
       "        <td style=\"padding-left: 1em; padding-right: 1em; text-align: center; vertical-align: top\">6</td>\n",
       "        <td style=\"padding-left: 1em; padding-right: 1em; text-align: center; vertical-align: top\">100001</td>\n",
       "        <td style=\"padding-left: 1em; padding-right: 1em; text-align: center; vertical-align: top\">Simpson Strong-Tie<br>12-Gauge Angle ...</td>\n",
       "        <td style=\"padding-left: 1em; padding-right: 1em; text-align: center; vertical-align: top\">simpson strong  ties</td>\n",
       "        <td style=\"padding-left: 1em; padding-right: 1em; text-align: center; vertical-align: top\">Not only do angles make<br>joints stronger, they ...</td>\n",
       "    </tr>\n",
       "    <tr>\n",
       "        <td style=\"padding-left: 1em; padding-right: 1em; text-align: center; vertical-align: top\">7</td>\n",
       "        <td style=\"padding-left: 1em; padding-right: 1em; text-align: center; vertical-align: top\">100001</td>\n",
       "        <td style=\"padding-left: 1em; padding-right: 1em; text-align: center; vertical-align: top\">Simpson Strong-Tie<br>12-Gauge Angle ...</td>\n",
       "        <td style=\"padding-left: 1em; padding-right: 1em; text-align: center; vertical-align: top\">simpson strong tie hcc668</td>\n",
       "        <td style=\"padding-left: 1em; padding-right: 1em; text-align: center; vertical-align: top\">Not only do angles make<br>joints stronger, they ...</td>\n",
       "    </tr>\n",
       "    <tr>\n",
       "        <td style=\"padding-left: 1em; padding-right: 1em; text-align: center; vertical-align: top\">8</td>\n",
       "        <td style=\"padding-left: 1em; padding-right: 1em; text-align: center; vertical-align: top\">100001</td>\n",
       "        <td style=\"padding-left: 1em; padding-right: 1em; text-align: center; vertical-align: top\">Simpson Strong-Tie<br>12-Gauge Angle ...</td>\n",
       "        <td style=\"padding-left: 1em; padding-right: 1em; text-align: center; vertical-align: top\">wood connectors</td>\n",
       "        <td style=\"padding-left: 1em; padding-right: 1em; text-align: center; vertical-align: top\">Not only do angles make<br>joints stronger, they ...</td>\n",
       "    </tr>\n",
       "    <tr>\n",
       "        <td style=\"padding-left: 1em; padding-right: 1em; text-align: center; vertical-align: top\">10</td>\n",
       "        <td style=\"padding-left: 1em; padding-right: 1em; text-align: center; vertical-align: top\">100003</td>\n",
       "        <td style=\"padding-left: 1em; padding-right: 1em; text-align: center; vertical-align: top\">STERLING Ensemble 33-1/4<br>in. x 60 in. x 75-1/4 ...</td>\n",
       "        <td style=\"padding-left: 1em; padding-right: 1em; text-align: center; vertical-align: top\">bath and shower kit</td>\n",
       "        <td style=\"padding-left: 1em; padding-right: 1em; text-align: center; vertical-align: top\">Classic architecture<br>meets contemporary de ...</td>\n",
       "    </tr>\n",
       "    <tr>\n",
       "        <td style=\"padding-left: 1em; padding-right: 1em; text-align: center; vertical-align: top\">11</td>\n",
       "        <td style=\"padding-left: 1em; padding-right: 1em; text-align: center; vertical-align: top\">100003</td>\n",
       "        <td style=\"padding-left: 1em; padding-right: 1em; text-align: center; vertical-align: top\">STERLING Ensemble 33-1/4<br>in. x 60 in. x 75-1/4 ...</td>\n",
       "        <td style=\"padding-left: 1em; padding-right: 1em; text-align: center; vertical-align: top\">bath drain kit</td>\n",
       "        <td style=\"padding-left: 1em; padding-right: 1em; text-align: center; vertical-align: top\">Classic architecture<br>meets contemporary de ...</td>\n",
       "    </tr>\n",
       "    <tr>\n",
       "        <td style=\"padding-left: 1em; padding-right: 1em; text-align: center; vertical-align: top\">12</td>\n",
       "        <td style=\"padding-left: 1em; padding-right: 1em; text-align: center; vertical-align: top\">100003</td>\n",
       "        <td style=\"padding-left: 1em; padding-right: 1em; text-align: center; vertical-align: top\">STERLING Ensemble 33-1/4<br>in. x 60 in. x 75-1/4 ...</td>\n",
       "        <td style=\"padding-left: 1em; padding-right: 1em; text-align: center; vertical-align: top\">one piece tub shower</td>\n",
       "        <td style=\"padding-left: 1em; padding-right: 1em; text-align: center; vertical-align: top\">Classic architecture<br>meets contemporary de ...</td>\n",
       "    </tr>\n",
       "    <tr>\n",
       "        <td style=\"padding-left: 1em; padding-right: 1em; text-align: center; vertical-align: top\">13</td>\n",
       "        <td style=\"padding-left: 1em; padding-right: 1em; text-align: center; vertical-align: top\">100004</td>\n",
       "        <td style=\"padding-left: 1em; padding-right: 1em; text-align: center; vertical-align: top\">Grape Solar 265-Watt<br>Polycrystalline Solar ...</td>\n",
       "        <td style=\"padding-left: 1em; padding-right: 1em; text-align: center; vertical-align: top\">solar panel</td>\n",
       "        <td style=\"padding-left: 1em; padding-right: 1em; text-align: center; vertical-align: top\">The Grape Solar 265-Watt<br>Polycrystalline PV Solar ...</td>\n",
       "    </tr>\n",
       "</table>\n",
       "<table frame=\"box\" rules=\"cols\">\n",
       "    <tr>\n",
       "        <th style=\"padding-left: 1em; padding-right: 1em; text-align: center\">search_term_word_count</th>\n",
       "        <th style=\"padding-left: 1em; padding-right: 1em; text-align: center\">search_tfidf</th>\n",
       "        <th style=\"padding-left: 1em; padding-right: 1em; text-align: center\">product_desc_word_count</th>\n",
       "        <th style=\"padding-left: 1em; padding-right: 1em; text-align: center\">desc_tfidf</th>\n",
       "    </tr>\n",
       "    <tr>\n",
       "        <td style=\"padding-left: 1em; padding-right: 1em; text-align: center; vertical-align: top\">{'90': 1, 'bracket': 1,<br>'degree': 1} ...</td>\n",
       "        <td style=\"padding-left: 1em; padding-right: 1em; text-align: center; vertical-align: top\">{'90':<br>6.7821620611958915, ...</td>\n",
       "        <td style=\"padding-left: 1em; padding-right: 1em; text-align: center; vertical-align: top\">{'outdoor': 1, 'zmax': 1,<br>'repair': 1, ...</td>\n",
       "        <td style=\"padding-left: 1em; padding-right: 1em; text-align: center; vertical-align: top\">{'outdoor':<br>2.2670671040608905, ...</td>\n",
       "    </tr>\n",
       "    <tr>\n",
       "        <td style=\"padding-left: 1em; padding-right: 1em; text-align: center; vertical-align: top\">{'metal': 1, 'l': 1,<br>'brackets': 1} ...</td>\n",
       "        <td style=\"padding-left: 1em; padding-right: 1em; text-align: center; vertical-align: top\">{'metal':<br>4.761280475281293, 'l': ...</td>\n",
       "        <td style=\"padding-left: 1em; padding-right: 1em; text-align: center; vertical-align: top\">{'outdoor': 1, 'zmax': 1,<br>'repair': 1, ...</td>\n",
       "        <td style=\"padding-left: 1em; padding-right: 1em; text-align: center; vertical-align: top\">{'outdoor':<br>2.2670671040608905, ...</td>\n",
       "    </tr>\n",
       "    <tr>\n",
       "        <td style=\"padding-left: 1em; padding-right: 1em; text-align: center; vertical-align: top\">{'sku': 1, 'able': 1,<br>'simpson': 1} ...</td>\n",
       "        <td style=\"padding-left: 1em; padding-right: 1em; text-align: center; vertical-align: top\">{'sku':<br>7.438941597584962, ...</td>\n",
       "        <td style=\"padding-left: 1em; padding-right: 1em; text-align: center; vertical-align: top\">{'outdoor': 1, 'zmax': 1,<br>'repair': 1, ...</td>\n",
       "        <td style=\"padding-left: 1em; padding-right: 1em; text-align: center; vertical-align: top\">{'outdoor':<br>2.2670671040608905, ...</td>\n",
       "    </tr>\n",
       "    <tr>\n",
       "        <td style=\"padding-left: 1em; padding-right: 1em; text-align: center; vertical-align: top\">{'ties': 1, 'strong': 1,<br>'simpson': 1} ...</td>\n",
       "        <td style=\"padding-left: 1em; padding-right: 1em; text-align: center; vertical-align: top\">{'ties':<br>7.605068468458936, ...</td>\n",
       "        <td style=\"padding-left: 1em; padding-right: 1em; text-align: center; vertical-align: top\">{'outdoor': 1, 'zmax': 1,<br>'repair': 1, ...</td>\n",
       "        <td style=\"padding-left: 1em; padding-right: 1em; text-align: center; vertical-align: top\">{'outdoor':<br>2.2670671040608905, ...</td>\n",
       "    </tr>\n",
       "    <tr>\n",
       "        <td style=\"padding-left: 1em; padding-right: 1em; text-align: center; vertical-align: top\">{'tie': 1, 'strong': 1,<br>'hcc668': 1, 'simpson': ...</td>\n",
       "        <td style=\"padding-left: 1em; padding-right: 1em; text-align: center; vertical-align: top\">{'tie': 7.13355994803378,<br>'strong': ...</td>\n",
       "        <td style=\"padding-left: 1em; padding-right: 1em; text-align: center; vertical-align: top\">{'outdoor': 1, 'zmax': 1,<br>'repair': 1, ...</td>\n",
       "        <td style=\"padding-left: 1em; padding-right: 1em; text-align: center; vertical-align: top\">{'outdoor':<br>2.2670671040608905, ...</td>\n",
       "    </tr>\n",
       "    <tr>\n",
       "        <td style=\"padding-left: 1em; padding-right: 1em; text-align: center; vertical-align: top\">{'connectors': 1, 'wood':<br>1} ...</td>\n",
       "        <td style=\"padding-left: 1em; padding-right: 1em; text-align: center; vertical-align: top\">{'connectors':<br>6.993471154863098, ...</td>\n",
       "        <td style=\"padding-left: 1em; padding-right: 1em; text-align: center; vertical-align: top\">{'outdoor': 1, 'zmax': 1,<br>'repair': 1, ...</td>\n",
       "        <td style=\"padding-left: 1em; padding-right: 1em; text-align: center; vertical-align: top\">{'outdoor':<br>2.2670671040608905, ...</td>\n",
       "    </tr>\n",
       "    <tr>\n",
       "        <td style=\"padding-left: 1em; padding-right: 1em; text-align: center; vertical-align: top\">{'shower': 1, 'and': 1,<br>'bath': 1, 'kit': 1} ...</td>\n",
       "        <td style=\"padding-left: 1em; padding-right: 1em; text-align: center; vertical-align: top\">{'shower':<br>3.890321658594567, 'a ...</td>\n",
       "        <td style=\"padding-left: 1em; padding-right: 1em; text-align: center; vertical-align: top\">{'and': 2, 'storing': 1,<br>'series,': 1, 'z124.1 ...</td>\n",
       "        <td style=\"padding-left: 1em; padding-right: 1em; text-align: center; vertical-align: top\">{'and':<br>0.0800483779106809, ...</td>\n",
       "    </tr>\n",
       "    <tr>\n",
       "        <td style=\"padding-left: 1em; padding-right: 1em; text-align: center; vertical-align: top\">{'bath': 1, 'drain': 1,<br>'kit': 1} ...</td>\n",
       "        <td style=\"padding-left: 1em; padding-right: 1em; text-align: center; vertical-align: top\">{'bath':<br>5.149710580802239, ...</td>\n",
       "        <td style=\"padding-left: 1em; padding-right: 1em; text-align: center; vertical-align: top\">{'and': 2, 'storing': 1,<br>'series,': 1, 'z124.1 ...</td>\n",
       "        <td style=\"padding-left: 1em; padding-right: 1em; text-align: center; vertical-align: top\">{'and':<br>0.0800483779106809, ...</td>\n",
       "    </tr>\n",
       "    <tr>\n",
       "        <td style=\"padding-left: 1em; padding-right: 1em; text-align: center; vertical-align: top\">{'shower': 1, 'tub': 1,<br>'piece': 1, 'one': 1} ...</td>\n",
       "        <td style=\"padding-left: 1em; padding-right: 1em; text-align: center; vertical-align: top\">{'shower':<br>3.890321658594567, 't ...</td>\n",
       "        <td style=\"padding-left: 1em; padding-right: 1em; text-align: center; vertical-align: top\">{'and': 2, 'storing': 1,<br>'series,': 1, 'z124.1 ...</td>\n",
       "        <td style=\"padding-left: 1em; padding-right: 1em; text-align: center; vertical-align: top\">{'and':<br>0.0800483779106809, ...</td>\n",
       "    </tr>\n",
       "    <tr>\n",
       "        <td style=\"padding-left: 1em; padding-right: 1em; text-align: center; vertical-align: top\">{'solar': 1, 'panel': 1}</td>\n",
       "        <td style=\"padding-left: 1em; padding-right: 1em; text-align: center; vertical-align: top\">{'solar':<br>5.732339936697214, ...</td>\n",
       "        <td style=\"padding-left: 1em; padding-right: 1em; text-align: center; vertical-align: top\">{'polycrystalline': 2,<br>'module': 1, ...</td>\n",
       "        <td style=\"padding-left: 1em; padding-right: 1em; text-align: center; vertical-align: top\">{'polycrystalline':<br>18.056353605403086, ...</td>\n",
       "    </tr>\n",
       "</table>\n",
       "<table frame=\"box\" rules=\"cols\">\n",
       "    <tr>\n",
       "        <th style=\"padding-left: 1em; padding-right: 1em; text-align: center\">product_title_word_count</th>\n",
       "        <th style=\"padding-left: 1em; padding-right: 1em; text-align: center\">title_tfidf</th>\n",
       "        <th style=\"padding-left: 1em; padding-right: 1em; text-align: center\">distance</th>\n",
       "        <th style=\"padding-left: 1em; padding-right: 1em; text-align: center\">distance2</th>\n",
       "    </tr>\n",
       "    <tr>\n",
       "        <td style=\"padding-left: 1em; padding-right: 1em; text-align: center; vertical-align: top\">{'strong-tie': 1,<br>'12-gauge': 1, 'angle': ...</td>\n",
       "        <td style=\"padding-left: 1em; padding-right: 1em; text-align: center; vertical-align: top\">{'strong-tie':<br>5.446047718534487, ...</td>\n",
       "        <td style=\"padding-left: 1em; padding-right: 1em; text-align: center; vertical-align: top\">0.955471973548</td>\n",
       "        <td style=\"padding-left: 1em; padding-right: 1em; text-align: center; vertical-align: top\">1.0</td>\n",
       "    </tr>\n",
       "    <tr>\n",
       "        <td style=\"padding-left: 1em; padding-right: 1em; text-align: center; vertical-align: top\">{'strong-tie': 1,<br>'12-gauge': 1, 'angle': ...</td>\n",
       "        <td style=\"padding-left: 1em; padding-right: 1em; text-align: center; vertical-align: top\">{'strong-tie':<br>5.446047718534487, ...</td>\n",
       "        <td style=\"padding-left: 1em; padding-right: 1em; text-align: center; vertical-align: top\">1.0</td>\n",
       "        <td style=\"padding-left: 1em; padding-right: 1em; text-align: center; vertical-align: top\">1.0</td>\n",
       "    </tr>\n",
       "    <tr>\n",
       "        <td style=\"padding-left: 1em; padding-right: 1em; text-align: center; vertical-align: top\">{'strong-tie': 1,<br>'12-gauge': 1, 'angle': ...</td>\n",
       "        <td style=\"padding-left: 1em; padding-right: 1em; text-align: center; vertical-align: top\">{'strong-tie':<br>5.446047718534487, ...</td>\n",
       "        <td style=\"padding-left: 1em; padding-right: 1em; text-align: center; vertical-align: top\">0.939075457861</td>\n",
       "        <td style=\"padding-left: 1em; padding-right: 1em; text-align: center; vertical-align: top\">0.748825894796</td>\n",
       "    </tr>\n",
       "    <tr>\n",
       "        <td style=\"padding-left: 1em; padding-right: 1em; text-align: center; vertical-align: top\">{'strong-tie': 1,<br>'12-gauge': 1, 'angle': ...</td>\n",
       "        <td style=\"padding-left: 1em; padding-right: 1em; text-align: center; vertical-align: top\">{'strong-tie':<br>5.446047718534487, ...</td>\n",
       "        <td style=\"padding-left: 1em; padding-right: 1em; text-align: center; vertical-align: top\">0.937712516547</td>\n",
       "        <td style=\"padding-left: 1em; padding-right: 1em; text-align: center; vertical-align: top\">0.743206885559</td>\n",
       "    </tr>\n",
       "    <tr>\n",
       "        <td style=\"padding-left: 1em; padding-right: 1em; text-align: center; vertical-align: top\">{'strong-tie': 1,<br>'12-gauge': 1, 'angle': ...</td>\n",
       "        <td style=\"padding-left: 1em; padding-right: 1em; text-align: center; vertical-align: top\">{'strong-tie':<br>5.446047718534487, ...</td>\n",
       "        <td style=\"padding-left: 1em; padding-right: 1em; text-align: center; vertical-align: top\">0.949250747211</td>\n",
       "        <td style=\"padding-left: 1em; padding-right: 1em; text-align: center; vertical-align: top\">0.790775642926</td>\n",
       "    </tr>\n",
       "    <tr>\n",
       "        <td style=\"padding-left: 1em; padding-right: 1em; text-align: center; vertical-align: top\">{'strong-tie': 1,<br>'12-gauge': 1, 'angle': ...</td>\n",
       "        <td style=\"padding-left: 1em; padding-right: 1em; text-align: center; vertical-align: top\">{'strong-tie':<br>5.446047718534487, ...</td>\n",
       "        <td style=\"padding-left: 1em; padding-right: 1em; text-align: center; vertical-align: top\">1.0</td>\n",
       "        <td style=\"padding-left: 1em; padding-right: 1em; text-align: center; vertical-align: top\">1.0</td>\n",
       "    </tr>\n",
       "    <tr>\n",
       "        <td style=\"padding-left: 1em; padding-right: 1em; text-align: center; vertical-align: top\">{'sterling': 1, 'and': 1,<br>'drain': 1, '75-1/4': 1, ...</td>\n",
       "        <td style=\"padding-left: 1em; padding-right: 1em; text-align: center; vertical-align: top\">{'sterling':<br>6.237011694888826, 'a ...</td>\n",
       "        <td style=\"padding-left: 1em; padding-right: 1em; text-align: center; vertical-align: top\">0.957250783503</td>\n",
       "        <td style=\"padding-left: 1em; padding-right: 1em; text-align: center; vertical-align: top\">0.682196478975</td>\n",
       "    </tr>\n",
       "    <tr>\n",
       "        <td style=\"padding-left: 1em; padding-right: 1em; text-align: center; vertical-align: top\">{'sterling': 1, 'and': 1,<br>'drain': 1, '75-1/4': 1, ...</td>\n",
       "        <td style=\"padding-left: 1em; padding-right: 1em; text-align: center; vertical-align: top\">{'sterling':<br>6.237011694888826, 'a ...</td>\n",
       "        <td style=\"padding-left: 1em; padding-right: 1em; text-align: center; vertical-align: top\">0.956490934274</td>\n",
       "        <td style=\"padding-left: 1em; padding-right: 1em; text-align: center; vertical-align: top\">0.670267588954</td>\n",
       "    </tr>\n",
       "    <tr>\n",
       "        <td style=\"padding-left: 1em; padding-right: 1em; text-align: center; vertical-align: top\">{'sterling': 1, 'and': 1,<br>'drain': 1, '75-1/4': 1, ...</td>\n",
       "        <td style=\"padding-left: 1em; padding-right: 1em; text-align: center; vertical-align: top\">{'sterling':<br>6.237011694888826, 'a ...</td>\n",
       "        <td style=\"padding-left: 1em; padding-right: 1em; text-align: center; vertical-align: top\">1.0</td>\n",
       "        <td style=\"padding-left: 1em; padding-right: 1em; text-align: center; vertical-align: top\">0.938706963098</td>\n",
       "    </tr>\n",
       "    <tr>\n",
       "        <td style=\"padding-left: 1em; padding-right: 1em; text-align: center; vertical-align: top\">{'polycrystalline': 1,<br>'grape': 1, '(4-pack)': ...</td>\n",
       "        <td style=\"padding-left: 1em; padding-right: 1em; text-align: center; vertical-align: top\">{'polycrystalline':<br>10.637614715135642, ...</td>\n",
       "        <td style=\"padding-left: 1em; padding-right: 1em; text-align: center; vertical-align: top\">0.635642096321</td>\n",
       "        <td style=\"padding-left: 1em; padding-right: 1em; text-align: center; vertical-align: top\">0.517535106244</td>\n",
       "    </tr>\n",
       "</table>\n",
       "[10 rows x 13 columns]<br/>\n",
       "</div>"
      ],
      "text/plain": [
       "Columns:\n",
       "\tid\tint\n",
       "\tproduct_uid\tint\n",
       "\tproduct_title\tstr\n",
       "\tsearch_term\tstr\n",
       "\tproduct_description\tstr\n",
       "\tsearch_term_word_count\tdict\n",
       "\tsearch_tfidf\tdict\n",
       "\tproduct_desc_word_count\tdict\n",
       "\tdesc_tfidf\tdict\n",
       "\tproduct_title_word_count\tdict\n",
       "\ttitle_tfidf\tdict\n",
       "\tdistance\tfloat\n",
       "\tdistance2\tfloat\n",
       "\n",
       "Rows: 10\n",
       "\n",
       "Data:\n",
       "+----+-------------+-------------------------------+---------------------------+\n",
       "| id | product_uid |         product_title         |        search_term        |\n",
       "+----+-------------+-------------------------------+---------------------------+\n",
       "| 1  |    100001   | Simpson Strong-Tie 12-Gaug... |     90 degree bracket     |\n",
       "| 4  |    100001   | Simpson Strong-Tie 12-Gaug... |      metal l brackets     |\n",
       "| 5  |    100001   | Simpson Strong-Tie 12-Gaug... |      simpson sku able     |\n",
       "| 6  |    100001   | Simpson Strong-Tie 12-Gaug... |    simpson strong  ties   |\n",
       "| 7  |    100001   | Simpson Strong-Tie 12-Gaug... | simpson strong tie hcc668 |\n",
       "| 8  |    100001   | Simpson Strong-Tie 12-Gaug... |      wood connectors      |\n",
       "| 10 |    100003   | STERLING Ensemble 33-1/4 i... |    bath and shower kit    |\n",
       "| 11 |    100003   | STERLING Ensemble 33-1/4 i... |       bath drain kit      |\n",
       "| 12 |    100003   | STERLING Ensemble 33-1/4 i... |    one piece tub shower   |\n",
       "| 13 |    100004   | Grape Solar 265-Watt Polyc... |        solar panel        |\n",
       "+----+-------------+-------------------------------+---------------------------+\n",
       "+-------------------------------+-------------------------------+\n",
       "|      product_description      |     search_term_word_count    |\n",
       "+-------------------------------+-------------------------------+\n",
       "| Not only do angles make jo... | {'90': 1, 'bracket': 1, 'd... |\n",
       "| Not only do angles make jo... | {'metal': 1, 'l': 1, 'brac... |\n",
       "| Not only do angles make jo... | {'sku': 1, 'able': 1, 'sim... |\n",
       "| Not only do angles make jo... | {'ties': 1, 'strong': 1, '... |\n",
       "| Not only do angles make jo... | {'tie': 1, 'strong': 1, 'h... |\n",
       "| Not only do angles make jo... |  {'connectors': 1, 'wood': 1} |\n",
       "| Classic architecture meets... | {'shower': 1, 'and': 1, 'b... |\n",
       "| Classic architecture meets... | {'bath': 1, 'drain': 1, 'k... |\n",
       "| Classic architecture meets... | {'shower': 1, 'tub': 1, 'p... |\n",
       "| The Grape Solar 265-Watt P... |    {'solar': 1, 'panel': 1}   |\n",
       "+-------------------------------+-------------------------------+\n",
       "+-------------------------------+-------------------------------+\n",
       "|          search_tfidf         |    product_desc_word_count    |\n",
       "+-------------------------------+-------------------------------+\n",
       "| {'90': 6.7821620611958915,... | {'outdoor': 1, 'zmax': 1, ... |\n",
       "| {'metal': 4.76128047528129... | {'outdoor': 1, 'zmax': 1, ... |\n",
       "| {'sku': 7.438941597584962,... | {'outdoor': 1, 'zmax': 1, ... |\n",
       "| {'ties': 7.605068468458936... | {'outdoor': 1, 'zmax': 1, ... |\n",
       "| {'tie': 7.13355994803378, ... | {'outdoor': 1, 'zmax': 1, ... |\n",
       "| {'connectors': 6.993471154... | {'outdoor': 1, 'zmax': 1, ... |\n",
       "| {'shower': 3.8903216585945... | {'and': 2, 'storing': 1, '... |\n",
       "| {'bath': 5.149710580802239... | {'and': 2, 'storing': 1, '... |\n",
       "| {'shower': 3.8903216585945... | {'and': 2, 'storing': 1, '... |\n",
       "| {'solar': 5.73233993669721... | {'polycrystalline': 2, 'mo... |\n",
       "+-------------------------------+-------------------------------+\n",
       "+-------------------------------+-------------------------------+\n",
       "|           desc_tfidf          |    product_title_word_count   |\n",
       "+-------------------------------+-------------------------------+\n",
       "| {'outdoor': 2.267067104060... | {'strong-tie': 1, '12-gaug... |\n",
       "| {'outdoor': 2.267067104060... | {'strong-tie': 1, '12-gaug... |\n",
       "| {'outdoor': 2.267067104060... | {'strong-tie': 1, '12-gaug... |\n",
       "| {'outdoor': 2.267067104060... | {'strong-tie': 1, '12-gaug... |\n",
       "| {'outdoor': 2.267067104060... | {'strong-tie': 1, '12-gaug... |\n",
       "| {'outdoor': 2.267067104060... | {'strong-tie': 1, '12-gaug... |\n",
       "| {'and': 0.0800483779106809... | {'sterling': 1, 'and': 1, ... |\n",
       "| {'and': 0.0800483779106809... | {'sterling': 1, 'and': 1, ... |\n",
       "| {'and': 0.0800483779106809... | {'sterling': 1, 'and': 1, ... |\n",
       "| {'polycrystalline': 18.056... | {'polycrystalline': 1, 'gr... |\n",
       "+-------------------------------+-------------------------------+\n",
       "+-------------------------------+----------------+----------------+\n",
       "|          title_tfidf          |    distance    |   distance2    |\n",
       "+-------------------------------+----------------+----------------+\n",
       "| {'strong-tie': 5.446047718... | 0.955471973548 |      1.0       |\n",
       "| {'strong-tie': 5.446047718... |      1.0       |      1.0       |\n",
       "| {'strong-tie': 5.446047718... | 0.939075457861 | 0.748825894796 |\n",
       "| {'strong-tie': 5.446047718... | 0.937712516547 | 0.743206885559 |\n",
       "| {'strong-tie': 5.446047718... | 0.949250747211 | 0.790775642926 |\n",
       "| {'strong-tie': 5.446047718... |      1.0       |      1.0       |\n",
       "| {'sterling': 6.23701169488... | 0.957250783503 | 0.682196478975 |\n",
       "| {'sterling': 6.23701169488... | 0.956490934274 | 0.670267588954 |\n",
       "| {'sterling': 6.23701169488... |      1.0       | 0.938706963098 |\n",
       "| {'polycrystalline': 10.637... | 0.635642096321 | 0.517535106244 |\n",
       "+-------------------------------+----------------+----------------+\n",
       "[10 rows x 13 columns]"
      ]
     },
     "execution_count": 27,
     "metadata": {},
     "output_type": "execute_result"
    }
   ],
   "source": [
    "'''\n",
    "predictions_test = model1.predict(test)\n",
    "test_errors = predictions_test - test['relevance']\n",
    "RSS_test = sum(test_errors * test_errors)\n",
    "print RSS_test\n",
    "'''"
   ]
  },
  {
   "cell_type": "code",
   "execution_count": null,
   "metadata": {
    "collapsed": false
   },
   "outputs": [],
   "source": [
    "output"
   ]
  },
  {
   "cell_type": "code",
   "execution_count": null,
   "metadata": {
    "collapsed": true
   },
   "outputs": [],
   "source": [
    "submission = gl.SFrame(test['id'])"
   ]
  },
  {
   "cell_type": "code",
   "execution_count": null,
   "metadata": {
    "collapsed": false
   },
   "outputs": [],
   "source": [
    "submission.add_column(output)\n",
    "submission.rename({'X1': 'id', 'X2':'relevance'})"
   ]
  },
  {
   "cell_type": "code",
   "execution_count": null,
   "metadata": {
    "collapsed": false
   },
   "outputs": [],
   "source": [
    "submission['relevance'] = submission.apply(lambda x: 3.0 if x['relevance'] > 3.0 else x['relevance'])\n",
    "submission['relevance'] = submission.apply(lambda x: 1.0 if x['relevance'] < 1.0 else x['relevance'])"
   ]
  },
  {
   "cell_type": "code",
   "execution_count": null,
   "metadata": {
    "collapsed": false
   },
   "outputs": [],
   "source": [
    "submission['relevance'] = submission.apply(lambda x: str(x['relevance']))"
   ]
  },
  {
   "cell_type": "code",
   "execution_count": null,
   "metadata": {
    "collapsed": false
   },
   "outputs": [],
   "source": [
    "submission.export_csv('../data/submission.csv', quote_level = 3)"
   ]
  },
  {
   "cell_type": "code",
   "execution_count": null,
   "metadata": {
    "collapsed": true
   },
   "outputs": [],
   "source": [
    "#gl.canvas.set_target('ipynb')"
   ]
  }
 ],
 "metadata": {
  "kernelspec": {
   "display_name": "Python 2",
   "language": "python",
   "name": "python2"
  },
  "language_info": {
   "codemirror_mode": {
    "name": "ipython",
    "version": 2
   },
   "file_extension": ".py",
   "mimetype": "text/x-python",
   "name": "python",
   "nbconvert_exporter": "python",
   "pygments_lexer": "ipython2",
   "version": "2.7.10"
  }
 },
 "nbformat": 4,
 "nbformat_minor": 0
}
